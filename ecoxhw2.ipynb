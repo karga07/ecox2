{
 "cells": [
  {
   "cell_type": "markdown",
   "metadata": {},
   "source": [
    "# Problem 1"
   ]
  },
  {
   "cell_type": "code",
   "execution_count": 1,
   "metadata": {
    "scrolled": true
   },
   "outputs": [
    {
     "name": "stderr",
     "output_type": "stream",
     "text": [
      "Installing packages into 'C:/Users/Honza/Documents/R/win-library/3.6'\n",
      "(as 'lib' is unspecified)\n"
     ]
    },
    {
     "name": "stdout",
     "output_type": "stream",
     "text": [
      "package 'boot' successfully unpacked and MD5 sums checked\n",
      "package 'msm' successfully unpacked and MD5 sums checked\n"
     ]
    },
    {
     "name": "stderr",
     "output_type": "stream",
     "text": [
      "Warning message:\n",
      "\"cannot remove prior installation of package 'msm'\"Warning message in file.copy(savedcopy, lib, recursive = TRUE):\n",
      "\"problem copying C:\\Users\\Honza\\Documents\\R\\win-library\\3.6\\00LOCK\\msm\\libs\\x64\\msm.dll to C:\\Users\\Honza\\Documents\\R\\win-library\\3.6\\msm\\libs\\x64\\msm.dll: Permission denied\"Warning message:\n",
      "\"restored 'msm'\""
     ]
    },
    {
     "name": "stdout",
     "output_type": "stream",
     "text": [
      "package 'dplyr' successfully unpacked and MD5 sums checked\n",
      "\n",
      "The downloaded binary packages are in\n",
      "\tC:\\Users\\Honza\\AppData\\Local\\Temp\\RtmpSYgbZm\\downloaded_packages\n"
     ]
    },
    {
     "name": "stderr",
     "output_type": "stream",
     "text": [
      "Warning message:\n",
      "\"package 'boot' was built under R version 3.6.3\"Warning message:\n",
      "\"package 'msm' was built under R version 3.6.3\"\n",
      "Attaching package: 'msm'\n",
      "\n",
      "The following object is masked from 'package:boot':\n",
      "\n",
      "    cav\n",
      "\n",
      "Warning message:\n",
      "\"package 'dplyr' was built under R version 3.6.3\"\n",
      "Attaching package: 'dplyr'\n",
      "\n",
      "The following objects are masked from 'package:stats':\n",
      "\n",
      "    filter, lag\n",
      "\n",
      "The following objects are masked from 'package:base':\n",
      "\n",
      "    intersect, setdiff, setequal, union\n",
      "\n",
      "Warning message:\n",
      "\"package 'broom' was built under R version 3.6.3\""
     ]
    }
   ],
   "source": [
    "install.packages(c(\"boot\",\"msm\",\"dplyr\")) #We start by installing and loading necessary packages\n",
    "library(boot)\n",
    "library(msm)\n",
    "library(dplyr)\n",
    "library(broom)"
   ]
  },
  {
   "cell_type": "code",
   "execution_count": 30,
   "metadata": {},
   "outputs": [
    {
     "data": {
      "text/html": [
       "<table>\n",
       "<thead><tr><th scope=col>u</th><th scope=col>x</th></tr></thead>\n",
       "<tbody>\n",
       "\t<tr><td>138</td><td>143</td></tr>\n",
       "\t<tr><td> 93</td><td>104</td></tr>\n",
       "\t<tr><td> 61</td><td> 69</td></tr>\n",
       "\t<tr><td>179</td><td>260</td></tr>\n",
       "\t<tr><td> 48</td><td> 75</td></tr>\n",
       "\t<tr><td> 37</td><td> 63</td></tr>\n",
       "\t<tr><td> 29</td><td> 50</td></tr>\n",
       "\t<tr><td> 23</td><td> 48</td></tr>\n",
       "\t<tr><td> 30</td><td>111</td></tr>\n",
       "\t<tr><td>  2</td><td> 50</td></tr>\n",
       "</tbody>\n",
       "</table>\n"
      ],
      "text/latex": [
       "\\begin{tabular}{r|ll}\n",
       " u & x\\\\\n",
       "\\hline\n",
       "\t 138 & 143\\\\\n",
       "\t  93 & 104\\\\\n",
       "\t  61 &  69\\\\\n",
       "\t 179 & 260\\\\\n",
       "\t  48 &  75\\\\\n",
       "\t  37 &  63\\\\\n",
       "\t  29 &  50\\\\\n",
       "\t  23 &  48\\\\\n",
       "\t  30 & 111\\\\\n",
       "\t   2 &  50\\\\\n",
       "\\end{tabular}\n"
      ],
      "text/markdown": [
       "\n",
       "| u | x |\n",
       "|---|---|\n",
       "| 138 | 143 |\n",
       "|  93 | 104 |\n",
       "|  61 |  69 |\n",
       "| 179 | 260 |\n",
       "|  48 |  75 |\n",
       "|  37 |  63 |\n",
       "|  29 |  50 |\n",
       "|  23 |  48 |\n",
       "|  30 | 111 |\n",
       "|   2 |  50 |\n",
       "\n"
      ],
      "text/plain": [
       "   u   x  \n",
       "1  138 143\n",
       "2   93 104\n",
       "3   61  69\n",
       "4  179 260\n",
       "5   48  75\n",
       "6   37  63\n",
       "7   29  50\n",
       "8   23  48\n",
       "9   30 111\n",
       "10   2  50"
      ]
     },
     "metadata": {},
     "output_type": "display_data"
    },
    {
     "data": {
      "text/html": [
       "93"
      ],
      "text/latex": [
       "93"
      ],
      "text/markdown": [
       "93"
      ],
      "text/plain": [
       "[1] 93"
      ]
     },
     "metadata": {},
     "output_type": "display_data"
    }
   ],
   "source": [
    "library(boot)\n",
    "data(city)\n",
    "data <- city\n",
    "data\n",
    "#data <- data(city) #we load the data\n",
    "#data #let's take a look, dataset is so small that we can view it as a whole"
   ]
  },
  {
   "cell_type": "markdown",
   "metadata": {},
   "source": [
    "## a) Draw the dependence between $u_i$ and $x_i$"
   ]
  },
  {
   "cell_type": "code",
   "execution_count": 3,
   "metadata": {},
   "outputs": [
    {
     "data": {
      "image/png": "[encoded data removed]",
      "text/plain": [
       "plot without title"
      ]
     },
     "metadata": {},
     "output_type": "display_data"
    }
   ],
   "source": [
    "plot(data$u, data$x)"
   ]
  },
  {
   "cell_type": "markdown",
   "metadata": {},
   "source": [
    "## b) Estimate the value of R from the random sample."
   ]
  },
  {
   "cell_type": "code",
   "execution_count": 4,
   "metadata": {},
   "outputs": [
    {
     "data": {
      "text/html": [
       "1.5203125"
      ],
      "text/latex": [
       "1.5203125"
      ],
      "text/markdown": [
       "1.5203125"
      ],
      "text/plain": [
       "[1] 1.520312"
      ]
     },
     "metadata": {},
     "output_type": "display_data"
    }
   ],
   "source": [
    "R = mean(data$x)/mean(data$u)\n",
    "R"
   ]
  },
  {
   "cell_type": "markdown",
   "metadata": {},
   "source": [
    "# c)"
   ]
  },
  {
   "cell_type": "markdown",
   "metadata": {},
   "source": [
    "We start by using \"brute force\"."
   ]
  },
  {
   "cell_type": "markdown",
   "metadata": {},
   "source": [
    "We allow for values of x and u to not correspond - clearly wrong"
   ]
  },
  {
   "cell_type": "code",
   "execution_count": 41,
   "metadata": {},
   "outputs": [],
   "source": [
    "# brute force bootstraping\n",
    "Boot    = 999\n",
    "x.boot = rep(0, Boot)\n",
    "u.boot = rep(0, Boot)\n",
    "\n",
    "set.seed(42)\n",
    "for(i in 1:Boot) {\n",
    "  x.sample <- sample(data$x, nrow(data), replace = TRUE)\n",
    "  x.boot[i] <- mean(x.sample)\n",
    "  u.sample <- sample(data$u, nrow(data), replace = TRUE)\n",
    "  u.boot[i] <- mean(u.sample)\n",
    "}"
   ]
  },
  {
   "cell_type": "code",
   "execution_count": 42,
   "metadata": {},
   "outputs": [
    {
     "data": {
      "text/html": [
       "'Bootstrap estimate of R: 1.6453'"
      ],
      "text/latex": [
       "'Bootstrap estimate of R: 1.6453'"
      ],
      "text/markdown": [
       "'Bootstrap estimate of R: 1.6453'"
      ],
      "text/plain": [
       "[1] \"Bootstrap estimate of R: 1.6453\""
      ]
     },
     "metadata": {},
     "output_type": "display_data"
    }
   ],
   "source": [
    "g <- x.boot/u.boot\n",
    "R_bf = mean(g) #bf stands for brute force\n",
    "sprintf(\"Bootstrap estimate of R: %.4f\", R_bf)"
   ]
  },
  {
   "cell_type": "markdown",
   "metadata": {},
   "source": [
    "values of x and u must correspond - it makes sense"
   ]
  },
  {
   "cell_type": "code",
   "execution_count": 48,
   "metadata": {},
   "outputs": [],
   "source": [
    "# brute force bootstraping\n",
    "Boot    = 999\n",
    "x.boot = rep(0, Boot)\n",
    "u.boot = rep(0, Boot)\n",
    "\n",
    "set.seed(42)\n",
    "for(i in 1:Boot) {\n",
    "  sample_data <- sample_n(data, nrow(data), replace = TRUE)\n",
    "  x.boot[i] <- mean(sample_data$x)\n",
    "  u.boot[i] <- mean(sample_data$u)\n",
    "}"
   ]
  },
  {
   "cell_type": "code",
   "execution_count": 55,
   "metadata": {},
   "outputs": [
    {
     "data": {
      "text/html": [
       "10"
      ],
      "text/latex": [
       "10"
      ],
      "text/markdown": [
       "10"
      ],
      "text/plain": [
       "[1] 10"
      ]
     },
     "metadata": {},
     "output_type": "display_data"
    },
    {
     "data": {
      "text/html": [
       "10"
      ],
      "text/latex": [
       "10"
      ],
      "text/markdown": [
       "10"
      ],
      "text/plain": [
       "[1] 10"
      ]
     },
     "metadata": {},
     "output_type": "display_data"
    },
    {
     "data": {
      "text/html": [
       "<ol class=list-inline>\n",
       "\t<li>179</li>\n",
       "\t<li>29</li>\n",
       "\t<li>23</li>\n",
       "\t<li>93</li>\n",
       "\t<li>2</li>\n",
       "\t<li>23</li>\n",
       "\t<li>30</li>\n",
       "\t<li>37</li>\n",
       "\t<li>93</li>\n",
       "\t<li>179</li>\n",
       "</ol>\n"
      ],
      "text/latex": [
       "\\begin{enumerate*}\n",
       "\\item 179\n",
       "\\item 29\n",
       "\\item 23\n",
       "\\item 93\n",
       "\\item 2\n",
       "\\item 23\n",
       "\\item 30\n",
       "\\item 37\n",
       "\\item 93\n",
       "\\item 179\n",
       "\\end{enumerate*}\n"
      ],
      "text/markdown": [
       "1. 179\n",
       "2. 29\n",
       "3. 23\n",
       "4. 93\n",
       "5. 2\n",
       "6. 23\n",
       "7. 30\n",
       "8. 37\n",
       "9. 93\n",
       "10. 179\n",
       "\n",
       "\n"
      ],
      "text/plain": [
       " [1] 179  29  23  93   2  23  30  37  93 179"
      ]
     },
     "metadata": {},
     "output_type": "display_data"
    },
    {
     "data": {
      "text/html": [
       "<ol class=list-inline>\n",
       "\t<li>260</li>\n",
       "\t<li>50</li>\n",
       "\t<li>48</li>\n",
       "\t<li>104</li>\n",
       "\t<li>50</li>\n",
       "\t<li>48</li>\n",
       "\t<li>111</li>\n",
       "\t<li>63</li>\n",
       "\t<li>104</li>\n",
       "\t<li>260</li>\n",
       "</ol>\n"
      ],
      "text/latex": [
       "\\begin{enumerate*}\n",
       "\\item 260\n",
       "\\item 50\n",
       "\\item 48\n",
       "\\item 104\n",
       "\\item 50\n",
       "\\item 48\n",
       "\\item 111\n",
       "\\item 63\n",
       "\\item 104\n",
       "\\item 260\n",
       "\\end{enumerate*}\n"
      ],
      "text/markdown": [
       "1. 260\n",
       "2. 50\n",
       "3. 48\n",
       "4. 104\n",
       "5. 50\n",
       "6. 48\n",
       "7. 111\n",
       "8. 63\n",
       "9. 104\n",
       "10. 260\n",
       "\n",
       "\n"
      ],
      "text/plain": [
       " [1] 260  50  48 104  50  48 111  63 104 260"
      ]
     },
     "metadata": {},
     "output_type": "display_data"
    }
   ],
   "source": [
    "# brute force bootstraping\n",
    "Boot    = 999\n",
    "x.boot = rep(0, Boot)\n",
    "u.boot = rep(0, Boot)\n",
    "sample_x = rep(0, nrow(data))\n",
    "g = rep(0,Boot)\n",
    "set.seed(42)\n",
    "for(i in 1:Boot) {\n",
    "  sample_u <- sample(data$u, nrow(data), replace = TRUE)\n",
    "  for(a in 1:length(sample_u)) {\n",
    "      for(b in 1:nrow(data)) {\n",
    "          if(sample_u[a] == data[b,1]){\n",
    "              sample_x[a] <- data[b,2]\n",
    "          }\n",
    "      }\n",
    "  }\n",
    "  x.boot[i] <- mean(sample_x)\n",
    "  u.boot[i] <- mean(sample_u)\n",
    "  g[i] <- x.boot[i]/u.boot[i]\n",
    "}\n",
    "length(sample_x)\n",
    "length(sample_u)\n",
    "sample_u\n",
    "sample_x"
   ]
  },
  {
   "cell_type": "code",
   "execution_count": 56,
   "metadata": {},
   "outputs": [
    {
     "data": {
      "text/html": [
       "'Bootstrap estimate of R: 1.5690422466'"
      ],
      "text/latex": [
       "'Bootstrap estimate of R: 1.5690422466'"
      ],
      "text/markdown": [
       "'Bootstrap estimate of R: 1.5690422466'"
      ],
      "text/plain": [
       "[1] \"Bootstrap estimate of R: 1.5690422466\""
      ]
     },
     "metadata": {},
     "output_type": "display_data"
    },
    {
     "data": {
      "text/html": [
       "'Bootstrap standard error for R: 0.2330'"
      ],
      "text/latex": [
       "'Bootstrap standard error for R: 0.2330'"
      ],
      "text/markdown": [
       "'Bootstrap standard error for R: 0.2330'"
      ],
      "text/plain": [
       "[1] \"Bootstrap standard error for R: 0.2330\""
      ]
     },
     "metadata": {},
     "output_type": "display_data"
    }
   ],
   "source": [
    "\n",
    "R_bf = mean(g) #bf stands for brute force\n",
    "R_bf_se = sd(g)\n",
    "sprintf(\"Bootstrap estimate of R: %.10f\", R_bf)\n",
    "sprintf(\"Bootstrap standard error for R: %.4f\", R_bf_se)"
   ]
  },
  {
   "cell_type": "markdown",
   "metadata": {},
   "source": [
    "We continue by using 'boot' package"
   ]
  },
  {
   "cell_type": "markdown",
   "metadata": {},
   "source": [
    "We allow for values of x and u to not correspond"
   ]
  },
  {
   "cell_type": "code",
   "execution_count": 57,
   "metadata": {},
   "outputs": [
    {
     "data": {
      "text/plain": [
       "          Length Class      Mode     \n",
       "t0          1    -none-     numeric  \n",
       "t         999    -none-     numeric  \n",
       "R           1    -none-     numeric  \n",
       "data        2    data.frame list     \n",
       "seed      626    -none-     numeric  \n",
       "statistic   1    -none-     function \n",
       "sim         1    -none-     character\n",
       "call        4    -none-     call     \n",
       "stype       1    -none-     character\n",
       "strata     10    -none-     numeric  \n",
       "weights    10    -none-     numeric  "
      ]
     },
     "metadata": {},
     "output_type": "display_data"
    },
    {
     "data": {
      "text/plain": [
       "\n",
       "ORDINARY NONPARAMETRIC BOOTSTRAP\n",
       "\n",
       "\n",
       "Call:\n",
       "boot(data = data, statistic = mean.boot, R = Boot)\n",
       "\n",
       "\n",
       "Bootstrap Statistics :\n",
       "    original     bias    std. error\n",
       "t1* 1.520312 0.05498203   0.2531078"
      ]
     },
     "metadata": {},
     "output_type": "display_data"
    },
    {
     "data": {
      "text/html": [
       "<table>\n",
       "<thead><tr><th scope=col>statistic</th><th scope=col>bias</th><th scope=col>std.error</th></tr></thead>\n",
       "<tbody>\n",
       "\t<tr><td>1.520312  </td><td>0.05498203</td><td>0.2531078 </td></tr>\n",
       "</tbody>\n",
       "</table>\n"
      ],
      "text/latex": [
       "\\begin{tabular}{r|lll}\n",
       " statistic & bias & std.error\\\\\n",
       "\\hline\n",
       "\t 1.520312   & 0.05498203 & 0.2531078 \\\\\n",
       "\\end{tabular}\n"
      ],
      "text/markdown": [
       "\n",
       "| statistic | bias | std.error |\n",
       "|---|---|---|\n",
       "| 1.520312   | 0.05498203 | 0.2531078  |\n",
       "\n"
      ],
      "text/plain": [
       "  statistic bias       std.error\n",
       "1 1.520312  0.05498203 0.2531078"
      ]
     },
     "metadata": {},
     "output_type": "display_data"
    },
    {
     "data": {
      "text/html": [
       "<table>\n",
       "<thead><tr><th scope=col>statistic</th></tr></thead>\n",
       "<tbody>\n",
       "\t<tr><td>1.575295</td></tr>\n",
       "</tbody>\n",
       "</table>\n"
      ],
      "text/latex": [
       "\\begin{tabular}{r|l}\n",
       " statistic\\\\\n",
       "\\hline\n",
       "\t 1.575295\\\\\n",
       "\\end{tabular}\n"
      ],
      "text/markdown": [
       "\n",
       "| statistic |\n",
       "|---|\n",
       "| 1.575295 |\n",
       "\n"
      ],
      "text/plain": [
       "  statistic\n",
       "1 1.575295 "
      ]
     },
     "metadata": {},
     "output_type": "display_data"
    },
    {
     "data": {
      "text/html": [
       "<table>\n",
       "<tbody>\n",
       "\t<tr><td> 0.198678029</td></tr>\n",
       "\t<tr><td>-0.304528756</td></tr>\n",
       "\t<tr><td>-0.042199613</td></tr>\n",
       "\t<tr><td> 0.604107143</td></tr>\n",
       "\t<tr><td> 0.768040638</td></tr>\n",
       "\t<tr><td> 0.065446977</td></tr>\n",
       "\t<tr><td>-0.241539763</td></tr>\n",
       "\t<tr><td> 0.302814376</td></tr>\n",
       "\t<tr><td>-0.007084353</td></tr>\n",
       "\t<tr><td>-0.157840039</td></tr>\n",
       "\t<tr><td>-0.161125993</td></tr>\n",
       "\t<tr><td>-0.374928770</td></tr>\n",
       "\t<tr><td> 0.302675547</td></tr>\n",
       "\t<tr><td>-0.172870036</td></tr>\n",
       "\t<tr><td>-0.301720913</td></tr>\n",
       "\t<tr><td> 0.214644213</td></tr>\n",
       "\t<tr><td> 0.310380650</td></tr>\n",
       "\t<tr><td> 0.146229386</td></tr>\n",
       "\t<tr><td>-0.416927900</td></tr>\n",
       "\t<tr><td>-0.069519634</td></tr>\n",
       "\t<tr><td>-0.181734457</td></tr>\n",
       "\t<tr><td> 0.414542144</td></tr>\n",
       "\t<tr><td>-0.101883016</td></tr>\n",
       "\t<tr><td>-0.557208372</td></tr>\n",
       "\t<tr><td> 0.352411647</td></tr>\n",
       "\t<tr><td>-0.462756893</td></tr>\n",
       "\t<tr><td> 0.242619048</td></tr>\n",
       "\t<tr><td> 0.197547847</td></tr>\n",
       "\t<tr><td>-0.379190747</td></tr>\n",
       "\t<tr><td>-0.187793601</td></tr>\n",
       "\t<tr><td>...</td></tr>\n",
       "\t<tr><td> 0.23028322</td></tr>\n",
       "\t<tr><td>-0.39402043</td></tr>\n",
       "\t<tr><td>-0.08961815</td></tr>\n",
       "\t<tr><td> 0.02554945</td></tr>\n",
       "\t<tr><td>-0.28652751</td></tr>\n",
       "\t<tr><td> 0.30634343</td></tr>\n",
       "\t<tr><td> 0.58001561</td></tr>\n",
       "\t<tr><td> 0.01288532</td></tr>\n",
       "\t<tr><td>-0.00947628</td></tr>\n",
       "\t<tr><td> 0.10017577</td></tr>\n",
       "\t<tr><td> 0.18557526</td></tr>\n",
       "\t<tr><td> 0.40485534</td></tr>\n",
       "\t<tr><td> 0.21191654</td></tr>\n",
       "\t<tr><td>-0.10714507</td></tr>\n",
       "\t<tr><td> 0.16716912</td></tr>\n",
       "\t<tr><td>-0.08542621</td></tr>\n",
       "\t<tr><td> 0.09733138</td></tr>\n",
       "\t<tr><td> 0.15301206</td></tr>\n",
       "\t<tr><td> 0.51209375</td></tr>\n",
       "\t<tr><td> 0.72611153</td></tr>\n",
       "\t<tr><td>-0.06273546</td></tr>\n",
       "\t<tr><td>-0.12553917</td></tr>\n",
       "\t<tr><td> 0.25434661</td></tr>\n",
       "\t<tr><td> 0.05001194</td></tr>\n",
       "\t<tr><td> 0.09596699</td></tr>\n",
       "\t<tr><td> 0.46986910</td></tr>\n",
       "\t<tr><td> 0.07664609</td></tr>\n",
       "\t<tr><td>-0.32138990</td></tr>\n",
       "\t<tr><td>-0.81559522</td></tr>\n",
       "\t<tr><td>-0.12901847</td></tr>\n",
       "</tbody>\n",
       "</table>\n"
      ],
      "text/latex": [
       "\\begin{tabular}{l}\n",
       "\t  0.198678029\\\\\n",
       "\t -0.304528756\\\\\n",
       "\t -0.042199613\\\\\n",
       "\t  0.604107143\\\\\n",
       "\t  0.768040638\\\\\n",
       "\t  0.065446977\\\\\n",
       "\t -0.241539763\\\\\n",
       "\t  0.302814376\\\\\n",
       "\t -0.007084353\\\\\n",
       "\t -0.157840039\\\\\n",
       "\t -0.161125993\\\\\n",
       "\t -0.374928770\\\\\n",
       "\t  0.302675547\\\\\n",
       "\t -0.172870036\\\\\n",
       "\t -0.301720913\\\\\n",
       "\t  0.214644213\\\\\n",
       "\t  0.310380650\\\\\n",
       "\t  0.146229386\\\\\n",
       "\t -0.416927900\\\\\n",
       "\t -0.069519634\\\\\n",
       "\t -0.181734457\\\\\n",
       "\t  0.414542144\\\\\n",
       "\t -0.101883016\\\\\n",
       "\t -0.557208372\\\\\n",
       "\t  0.352411647\\\\\n",
       "\t -0.462756893\\\\\n",
       "\t  0.242619048\\\\\n",
       "\t  0.197547847\\\\\n",
       "\t -0.379190747\\\\\n",
       "\t -0.187793601\\\\\n",
       "\t ...\\\\\n",
       "\t  0.23028322\\\\\n",
       "\t -0.39402043\\\\\n",
       "\t -0.08961815\\\\\n",
       "\t  0.02554945\\\\\n",
       "\t -0.28652751\\\\\n",
       "\t  0.30634343\\\\\n",
       "\t  0.58001561\\\\\n",
       "\t  0.01288532\\\\\n",
       "\t -0.00947628\\\\\n",
       "\t  0.10017577\\\\\n",
       "\t  0.18557526\\\\\n",
       "\t  0.40485534\\\\\n",
       "\t  0.21191654\\\\\n",
       "\t -0.10714507\\\\\n",
       "\t  0.16716912\\\\\n",
       "\t -0.08542621\\\\\n",
       "\t  0.09733138\\\\\n",
       "\t  0.15301206\\\\\n",
       "\t  0.51209375\\\\\n",
       "\t  0.72611153\\\\\n",
       "\t -0.06273546\\\\\n",
       "\t -0.12553917\\\\\n",
       "\t  0.25434661\\\\\n",
       "\t  0.05001194\\\\\n",
       "\t  0.09596699\\\\\n",
       "\t  0.46986910\\\\\n",
       "\t  0.07664609\\\\\n",
       "\t -0.32138990\\\\\n",
       "\t -0.81559522\\\\\n",
       "\t -0.12901847\\\\\n",
       "\\end{tabular}\n"
      ],
      "text/markdown": [
       "\n",
       "|  0.198678029 |\n",
       "| -0.304528756 |\n",
       "| -0.042199613 |\n",
       "|  0.604107143 |\n",
       "|  0.768040638 |\n",
       "|  0.065446977 |\n",
       "| -0.241539763 |\n",
       "|  0.302814376 |\n",
       "| -0.007084353 |\n",
       "| -0.157840039 |\n",
       "| -0.161125993 |\n",
       "| -0.374928770 |\n",
       "|  0.302675547 |\n",
       "| -0.172870036 |\n",
       "| -0.301720913 |\n",
       "|  0.214644213 |\n",
       "|  0.310380650 |\n",
       "|  0.146229386 |\n",
       "| -0.416927900 |\n",
       "| -0.069519634 |\n",
       "| -0.181734457 |\n",
       "|  0.414542144 |\n",
       "| -0.101883016 |\n",
       "| -0.557208372 |\n",
       "|  0.352411647 |\n",
       "| -0.462756893 |\n",
       "|  0.242619048 |\n",
       "|  0.197547847 |\n",
       "| -0.379190747 |\n",
       "| -0.187793601 |\n",
       "| ... |\n",
       "|  0.23028322 |\n",
       "| -0.39402043 |\n",
       "| -0.08961815 |\n",
       "|  0.02554945 |\n",
       "| -0.28652751 |\n",
       "|  0.30634343 |\n",
       "|  0.58001561 |\n",
       "|  0.01288532 |\n",
       "| -0.00947628 |\n",
       "|  0.10017577 |\n",
       "|  0.18557526 |\n",
       "|  0.40485534 |\n",
       "|  0.21191654 |\n",
       "| -0.10714507 |\n",
       "|  0.16716912 |\n",
       "| -0.08542621 |\n",
       "|  0.09733138 |\n",
       "|  0.15301206 |\n",
       "|  0.51209375 |\n",
       "|  0.72611153 |\n",
       "| -0.06273546 |\n",
       "| -0.12553917 |\n",
       "|  0.25434661 |\n",
       "|  0.05001194 |\n",
       "|  0.09596699 |\n",
       "|  0.46986910 |\n",
       "|  0.07664609 |\n",
       "| -0.32138990 |\n",
       "| -0.81559522 |\n",
       "| -0.12901847 |\n",
       "\n"
      ],
      "text/plain": [
       "      [,1]        \n",
       " [1,]  0.198678029\n",
       " [2,] -0.304528756\n",
       " [3,] -0.042199613\n",
       " [4,]  0.604107143\n",
       " [5,]  0.768040638\n",
       " [6,]  0.065446977\n",
       " [7,] -0.241539763\n",
       " [8,]  0.302814376\n",
       " [9,] -0.007084353\n",
       "[10,] -0.157840039\n",
       "[11,] -0.161125993\n",
       "[12,] -0.374928770\n",
       "[13,]  0.302675547\n",
       "[14,] -0.172870036\n",
       "[15,] -0.301720913\n",
       "[16,]  0.214644213\n",
       "[17,]  0.310380650\n",
       "[18,]  0.146229386\n",
       "[19,] -0.416927900\n",
       "[20,] -0.069519634\n",
       "[21,] -0.181734457\n",
       "[22,]  0.414542144\n",
       "[23,] -0.101883016\n",
       "[24,] -0.557208372\n",
       "[25,]  0.352411647\n",
       "[26,] -0.462756893\n",
       "[27,]  0.242619048\n",
       "[28,]  0.197547847\n",
       "[29,] -0.379190747\n",
       "[30,] -0.187793601\n",
       "[31,] ...         \n",
       "[32,]  0.23028322 \n",
       "[33,] -0.39402043 \n",
       "[34,] -0.08961815 \n",
       "[35,]  0.02554945 \n",
       "[36,] -0.28652751 \n",
       "[37,]  0.30634343 \n",
       "[38,]  0.58001561 \n",
       "[39,]  0.01288532 \n",
       "[40,] -0.00947628 \n",
       "[41,]  0.10017577 \n",
       "[42,]  0.18557526 \n",
       "[43,]  0.40485534 \n",
       "[44,]  0.21191654 \n",
       "[45,] -0.10714507 \n",
       "[46,]  0.16716912 \n",
       "[47,] -0.08542621 \n",
       "[48,]  0.09733138 \n",
       "[49,]  0.15301206 \n",
       "[50,]  0.51209375 \n",
       "[51,]  0.72611153 \n",
       "[52,] -0.06273546 \n",
       "[53,] -0.12553917 \n",
       "[54,]  0.25434661 \n",
       "[55,]  0.05001194 \n",
       "[56,]  0.09596699 \n",
       "[57,]  0.46986910 \n",
       "[58,]  0.07664609 \n",
       "[59,] -0.32138990 \n",
       "[60,] -0.81559522 \n",
       "[61,] -0.12901847 "
      ]
     },
     "metadata": {},
     "output_type": "display_data"
    }
   ],
   "source": [
    "# now, using the \"boot\" package\n",
    "Boot = 999\n",
    "mean.boot = function(data, idx) {\n",
    "  out = mean(data$x[idx])/mean(data$u[idx])\n",
    "  out\n",
    "}\n",
    "\n",
    "\n",
    "set.seed(42)\n",
    "data.boot <- boot(data, statistic = mean.boot, R = Boot)\n",
    "summary(data.boot)\n",
    "data.boot\n",
    "\n",
    "tidy(data.boot)\n",
    "tidy(data.boot)[1]+tidy(data.boot)[2]\n",
    "data.boot$t - g\n"
   ]
  },
  {
   "cell_type": "code",
   "execution_count": 20,
   "metadata": {},
   "outputs": [],
   "source": [
    "?sample()"
   ]
  },
  {
   "cell_type": "code",
   "execution_count": 11,
   "metadata": {},
   "outputs": [],
   "source": [
    "?set.seed()"
   ]
  },
  {
   "cell_type": "markdown",
   "metadata": {},
   "source": [
    "# Problem 3"
   ]
  },
  {
   "cell_type": "code",
   "execution_count": 12,
   "metadata": {},
   "outputs": [
    {
     "name": "stderr",
     "output_type": "stream",
     "text": [
      "Installing packages into 'C:/Users/Honza/Documents/R/win-library/3.6'\n",
      "(as 'lib' is unspecified)\n"
     ]
    },
    {
     "name": "stdout",
     "output_type": "stream",
     "text": [
      "package 'readr' successfully unpacked and MD5 sums checked\n",
      "package 'tseries' successfully unpacked and MD5 sums checked\n",
      "package 'gmm' successfully unpacked and MD5 sums checked\n",
      "\n",
      "The downloaded binary packages are in\n",
      "\tC:\\Users\\Honza\\AppData\\Local\\Temp\\RtmpSYgbZm\\downloaded_packages\n"
     ]
    },
    {
     "name": "stderr",
     "output_type": "stream",
     "text": [
      "Warning message:\n",
      "\"package 'readr' was built under R version 3.6.3\"Warning message:\n",
      "\"package 'tseries' was built under R version 3.6.3\"Registered S3 method overwritten by 'quantmod':\n",
      "  method            from\n",
      "  as.zoo.data.frame zoo \n",
      "Warning message:\n",
      "\"package 'gmm' was built under R version 3.6.3\"Loading required package: sandwich\n",
      "Warning message:\n",
      "\"package 'sandwich' was built under R version 3.6.3\""
     ]
    }
   ],
   "source": [
    "install.packages(c(\"readr\",\"tseries\",\"gmm\")) #necessary packages\n",
    "library(readr) #so that we can load the data\n",
    "library(tseries)\n",
    "library(gmm)"
   ]
  },
  {
   "cell_type": "code",
   "execution_count": 13,
   "metadata": {},
   "outputs": [
    {
     "name": "stderr",
     "output_type": "stream",
     "text": [
      "\n",
      "-- Column specification ------------------------------------------------------------------------------------------------\n",
      "cols(\n",
      "  x = col_double()\n",
      ")\n",
      "\n"
     ]
    },
    {
     "data": {
      "text/html": [
       "<table>\n",
       "<thead><tr><th scope=col>x</th></tr></thead>\n",
       "<tbody>\n",
       "\t<tr><td> 1.1964116</td></tr>\n",
       "\t<tr><td> 0.9136624</td></tr>\n",
       "\t<tr><td> 0.7950761</td></tr>\n",
       "\t<tr><td> 1.8208410</td></tr>\n",
       "\t<tr><td> 1.5416703</td></tr>\n",
       "\t<tr><td>-0.3024855</td></tr>\n",
       "</tbody>\n",
       "</table>\n"
      ],
      "text/latex": [
       "\\begin{tabular}{r|l}\n",
       " x\\\\\n",
       "\\hline\n",
       "\t  1.1964116\\\\\n",
       "\t  0.9136624\\\\\n",
       "\t  0.7950761\\\\\n",
       "\t  1.8208410\\\\\n",
       "\t  1.5416703\\\\\n",
       "\t -0.3024855\\\\\n",
       "\\end{tabular}\n"
      ],
      "text/markdown": [
       "\n",
       "| x |\n",
       "|---|\n",
       "|  1.1964116 |\n",
       "|  0.9136624 |\n",
       "|  0.7950761 |\n",
       "|  1.8208410 |\n",
       "|  1.5416703 |\n",
       "| -0.3024855 |\n",
       "\n"
      ],
      "text/plain": [
       "  x         \n",
       "1  1.1964116\n",
       "2  0.9136624\n",
       "3  0.7950761\n",
       "4  1.8208410\n",
       "5  1.5416703\n",
       "6 -0.3024855"
      ]
     },
     "metadata": {},
     "output_type": "display_data"
    }
   ],
   "source": [
    "data3 <- read_csv(\"hw2_data.csv\")\n",
    "head(data3)"
   ]
  },
  {
   "cell_type": "code",
   "execution_count": 14,
   "metadata": {},
   "outputs": [
    {
     "name": "stderr",
     "output_type": "stream",
     "text": [
      "Installing package into 'C:/Users/Honza/Documents/R/win-library/3.6'\n",
      "(as 'lib' is unspecified)\n"
     ]
    },
    {
     "name": "stdout",
     "output_type": "stream",
     "text": [
      "package 'rlang' successfully unpacked and MD5 sums checked\n"
     ]
    },
    {
     "name": "stderr",
     "output_type": "stream",
     "text": [
      "Warning message:\n",
      "\"cannot remove prior installation of package 'rlang'\"Warning message in file.copy(savedcopy, lib, recursive = TRUE):\n",
      "\"problem copying C:\\Users\\Honza\\Documents\\R\\win-library\\3.6\\00LOCK\\rlang\\libs\\x64\\rlang.dll to C:\\Users\\Honza\\Documents\\R\\win-library\\3.6\\rlang\\libs\\x64\\rlang.dll: Permission denied\"Warning message:\n",
      "\"restored 'rlang'\""
     ]
    },
    {
     "name": "stdout",
     "output_type": "stream",
     "text": [
      "\n",
      "The downloaded binary packages are in\n",
      "\tC:\\Users\\Honza\\AppData\\Local\\Temp\\RtmpSYgbZm\\downloaded_packages\n"
     ]
    }
   ],
   "source": [
    "install.packages(\"rlang\")"
   ]
  }
 ],
 "metadata": {
  "kernelspec": {
   "display_name": "R",
   "language": "R",
   "name": "ir"
  },
  "language_info": {
   "codemirror_mode": "r",
   "file_extension": ".r",
   "mimetype": "text/x-r-source",
   "name": "R",
   "pygments_lexer": "r",
   "version": "3.6.1"
  }
 },
 "nbformat": 4,
 "nbformat_minor": 4
}
