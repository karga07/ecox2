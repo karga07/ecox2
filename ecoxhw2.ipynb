{
 "cells": [
  {
   "cell_type": "markdown",
   "metadata": {},
   "source": [
    "# Problem 1"
   ]
  },
  {
   "cell_type": "code",
   "execution_count": 12,
   "metadata": {},
   "outputs": [
    {
     "name": "stderr",
     "output_type": "stream",
     "text": [
      "Warning message:\n",
      "\"package 'dplyr' was built under R version 3.6.3\""
     ]
    },
    {
     "ename": "ERROR",
     "evalue": "Error: package or namespace load failed for 'dplyr' in loadNamespace(i, c(lib.loc, .libPaths()), versionCheck = vI[[i]]):\n namespace 'rlang' 0.4.2 is already loaded, but >= 0.4.7 is required\n",
     "output_type": "error",
     "traceback": [
      "Error: package or namespace load failed for 'dplyr' in loadNamespace(i, c(lib.loc, .libPaths()), versionCheck = vI[[i]]):\n namespace 'rlang' 0.4.2 is already loaded, but >= 0.4.7 is required\nTraceback:\n",
      "1. library(dplyr)",
      "2. tryCatch({\n .     attr(package, \"LibPath\") <- which.lib.loc\n .     ns <- loadNamespace(package, lib.loc)\n .     env <- attachNamespace(ns, pos = pos, deps, exclude, include.only)\n . }, error = function(e) {\n .     P <- if (!is.null(cc <- conditionCall(e))) \n .         paste(\" in\", deparse(cc)[1L])\n .     else \"\"\n .     msg <- gettextf(\"package or namespace load failed for %s%s:\\n %s\", \n .         sQuote(package), P, conditionMessage(e))\n .     if (logical.return) \n .         message(paste(\"Error:\", msg), domain = NA)\n .     else stop(msg, call. = FALSE, domain = NA)\n . })",
      "3. tryCatchList(expr, classes, parentenv, handlers)",
      "4. tryCatchOne(expr, names, parentenv, handlers[[1L]])",
      "5. value[[3L]](cond)",
      "6. stop(msg, call. = FALSE, domain = NA)"
     ]
    }
   ],
   "source": [
    "#install.packages(c(\"boot\",\"msm\",\"dplyr\")) #We start by installing and loading necessary packages\n",
    "library(boot)\n",
    "library(msm)\n",
    "library(dplyr)"
   ]
  },
  {
   "cell_type": "code",
   "execution_count": 11,
   "metadata": {},
   "outputs": [
    {
     "data": {
      "text/html": [
       "<table>\n",
       "<thead><tr><th scope=col>u</th><th scope=col>x</th></tr></thead>\n",
       "<tbody>\n",
       "\t<tr><td>138</td><td>143</td></tr>\n",
       "\t<tr><td> 93</td><td>104</td></tr>\n",
       "\t<tr><td> 61</td><td> 69</td></tr>\n",
       "\t<tr><td>179</td><td>260</td></tr>\n",
       "\t<tr><td> 48</td><td> 75</td></tr>\n",
       "\t<tr><td> 37</td><td> 63</td></tr>\n",
       "\t<tr><td> 29</td><td> 50</td></tr>\n",
       "\t<tr><td> 23</td><td> 48</td></tr>\n",
       "\t<tr><td> 30</td><td>111</td></tr>\n",
       "\t<tr><td>  2</td><td> 50</td></tr>\n",
       "</tbody>\n",
       "</table>\n"
      ],
      "text/latex": [
       "\\begin{tabular}{r|ll}\n",
       " u & x\\\\\n",
       "\\hline\n",
       "\t 138 & 143\\\\\n",
       "\t  93 & 104\\\\\n",
       "\t  61 &  69\\\\\n",
       "\t 179 & 260\\\\\n",
       "\t  48 &  75\\\\\n",
       "\t  37 &  63\\\\\n",
       "\t  29 &  50\\\\\n",
       "\t  23 &  48\\\\\n",
       "\t  30 & 111\\\\\n",
       "\t   2 &  50\\\\\n",
       "\\end{tabular}\n"
      ],
      "text/markdown": [
       "\n",
       "| u | x |\n",
       "|---|---|\n",
       "| 138 | 143 |\n",
       "|  93 | 104 |\n",
       "|  61 |  69 |\n",
       "| 179 | 260 |\n",
       "|  48 |  75 |\n",
       "|  37 |  63 |\n",
       "|  29 |  50 |\n",
       "|  23 |  48 |\n",
       "|  30 | 111 |\n",
       "|   2 |  50 |\n",
       "\n"
      ],
      "text/plain": [
       "   u   x  \n",
       "1  138 143\n",
       "2   93 104\n",
       "3   61  69\n",
       "4  179 260\n",
       "5   48  75\n",
       "6   37  63\n",
       "7   29  50\n",
       "8   23  48\n",
       "9   30 111\n",
       "10   2  50"
      ]
     },
     "metadata": {},
     "output_type": "display_data"
    }
   ],
   "source": [
    "library(boot)\n",
    "data(city)\n",
    "data <- city\n",
    "data\n",
    "#data <- data(city) #we load the data\n",
    "#data #let's take a look, dataset is so small that we can view it as a whole"
   ]
  },
  {
   "cell_type": "markdown",
   "metadata": {},
   "source": [
    "## a) Draw the dependence between $u_i$ and $x_i$"
   ]
  },
  {
   "cell_type": "code",
   "execution_count": null,
   "metadata": {},
   "outputs": [],
   "source": [
    "#linear dependence\n",
    "model1 <- lm(x ~ u, data = data)\n",
    "summary(model1)\n",
    "\n",
    "#second option: x=a*u, therefore log(x)=log(a)+log(u)\n",
    "model2 <- lm(log(x) ~ log(u), data = data)\n",
    "summary(model2)"
   ]
  },
  {
   "cell_type": "code",
   "execution_count": null,
   "metadata": {},
   "outputs": [],
   "source": [
    "R = mean(data$x)/mean(data$u)\n",
    "R"
   ]
  },
  {
   "cell_type": "markdown",
   "metadata": {},
   "source": [
    "# c)"
   ]
  },
  {
   "cell_type": "code",
   "execution_count": null,
   "metadata": {},
   "outputs": [],
   "source": [
    "# brute force bootstraping\n",
    "Boot    = 9999\n",
    "x.boot = rep(0, Boot)\n",
    "u.boot = rep(0, Boot)\n",
    "\n",
    "set.seed(42)\n",
    "for(i in 1:Boot) {\n",
    "  data.boot.x     = sample(data$x, size = nrow(data), replace = TRUE)\n",
    "  x.boot[i]    = mean(data.boot.x)\n",
    "  data.boot.u     = sample(data$u, size = nrow(data), replace = TRUE)\n",
    "  u.boot[i]    = mean(data.boot.u)   \n",
    "}"
   ]
  },
  {
   "cell_type": "code",
   "execution_count": null,
   "metadata": {},
   "outputs": [],
   "source": [
    "R_bf = mean(x.boot)/mean(u.boot) #bf stands for brute force\n",
    "sprintf(\"Bootstrap estimate of R: %.4f\", mean(x.boot)/mean(u.boot))"
   ]
  },
  {
   "cell_type": "code",
   "execution_count": null,
   "metadata": {},
   "outputs": [],
   "source": [
    "z <- c(1:10)\n",
    "set.seed(42)\n",
    "for(i in 1:Boot) {\n",
    "  data_sample = sample_n()   \n",
    "}"
   ]
  },
  {
   "cell_type": "markdown",
   "metadata": {},
   "source": [
    "# Problem 3"
   ]
  },
  {
   "cell_type": "code",
   "execution_count": null,
   "metadata": {},
   "outputs": [],
   "source": [
    "install.packages(c(\"readr\",\"tseries\",\"gmm\")) #necessary packages\n",
    "library(readr) #so that we can load the data\n",
    "library(tseries)\n",
    "library(gmm)"
   ]
  },
  {
   "cell_type": "code",
   "execution_count": null,
   "metadata": {},
   "outputs": [],
   "source": [
    "data3 <- read_csv(\"hw2_data.csv\")\n",
    "head(data3)"
   ]
  },
  {
   "cell_type": "code",
   "execution_count": null,
   "metadata": {},
   "outputs": [],
   "source": [
    "install.packages(\"rlang\")"
   ]
  }
 ],
 "metadata": {
  "kernelspec": {
   "display_name": "R",
   "language": "R",
   "name": "ir"
  },
  "language_info": {
   "codemirror_mode": "r",
   "file_extension": ".r",
   "mimetype": "text/x-r-source",
   "name": "R",
   "pygments_lexer": "r",
   "version": "3.6.1"
  }
 },
 "nbformat": 4,
 "nbformat_minor": 4
}
