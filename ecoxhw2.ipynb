{
 "cells": [
  {
   "cell_type": "markdown",
   "metadata": {},
   "source": [
    "# Advanced Econometrics - Home Assignment 2\n",
    "\n",
    "Karolína Gajdušková\n",
    "Andrea Rákosníková\n",
    "Jan Suchánek"
   ]
  },
  {
   "cell_type": "markdown",
   "metadata": {},
   "source": [
    "# Problem 1"
   ]
  },
  {
   "cell_type": "code",
   "execution_count": 16,
   "metadata": {
    "scrolled": true
   },
   "outputs": [
    {
     "name": "stderr",
     "output_type": "stream",
     "text": [
      "Installing packages into 'C:/Users/Honza/Documents/R/win-library/3.6'\n",
      "(as 'lib' is unspecified)\n",
      "Warning message:\n",
      "\"packages 'boot', 'msm', 'dplyr' are in use and will not be installed\""
     ]
    }
   ],
   "source": [
    "install.packages(c(\"boot\",\"msm\",\"dplyr\")) #We start by installing and loading necessary packages\n",
    "library(boot)\n",
    "library(msm)\n",
    "library(dplyr)\n",
    "library(broom)"
   ]
  },
  {
   "cell_type": "code",
   "execution_count": 17,
   "metadata": {},
   "outputs": [
    {
     "data": {
      "text/html": [
       "<table>\n",
       "<thead><tr><th scope=col>u</th><th scope=col>x</th></tr></thead>\n",
       "<tbody>\n",
       "\t<tr><td>138</td><td>143</td></tr>\n",
       "\t<tr><td> 93</td><td>104</td></tr>\n",
       "\t<tr><td> 61</td><td> 69</td></tr>\n",
       "\t<tr><td>179</td><td>260</td></tr>\n",
       "\t<tr><td> 48</td><td> 75</td></tr>\n",
       "\t<tr><td> 37</td><td> 63</td></tr>\n",
       "\t<tr><td> 29</td><td> 50</td></tr>\n",
       "\t<tr><td> 23</td><td> 48</td></tr>\n",
       "\t<tr><td> 30</td><td>111</td></tr>\n",
       "\t<tr><td>  2</td><td> 50</td></tr>\n",
       "</tbody>\n",
       "</table>\n"
      ],
      "text/latex": [
       "\\begin{tabular}{r|ll}\n",
       " u & x\\\\\n",
       "\\hline\n",
       "\t 138 & 143\\\\\n",
       "\t  93 & 104\\\\\n",
       "\t  61 &  69\\\\\n",
       "\t 179 & 260\\\\\n",
       "\t  48 &  75\\\\\n",
       "\t  37 &  63\\\\\n",
       "\t  29 &  50\\\\\n",
       "\t  23 &  48\\\\\n",
       "\t  30 & 111\\\\\n",
       "\t   2 &  50\\\\\n",
       "\\end{tabular}\n"
      ],
      "text/markdown": [
       "\n",
       "| u | x |\n",
       "|---|---|\n",
       "| 138 | 143 |\n",
       "|  93 | 104 |\n",
       "|  61 |  69 |\n",
       "| 179 | 260 |\n",
       "|  48 |  75 |\n",
       "|  37 |  63 |\n",
       "|  29 |  50 |\n",
       "|  23 |  48 |\n",
       "|  30 | 111 |\n",
       "|   2 |  50 |\n",
       "\n"
      ],
      "text/plain": [
       "   u   x  \n",
       "1  138 143\n",
       "2   93 104\n",
       "3   61  69\n",
       "4  179 260\n",
       "5   48  75\n",
       "6   37  63\n",
       "7   29  50\n",
       "8   23  48\n",
       "9   30 111\n",
       "10   2  50"
      ]
     },
     "metadata": {},
     "output_type": "display_data"
    }
   ],
   "source": [
    "library(boot)\n",
    "data(city)\n",
    "data <- city\n",
    "data\n",
    "#data <- data(city) #we load the data\n",
    "#data #let's take a look, dataset is so small that we can view it as a whole"
   ]
  },
  {
   "cell_type": "markdown",
   "metadata": {},
   "source": [
    "## a) Draw the dependence between $u_i$ and $x_i$"
   ]
  },
  {
   "cell_type": "code",
   "execution_count": 18,
   "metadata": {},
   "outputs": [
    {
     "data": {
      "image/png": "[encoded data removed]"
     },
     "metadata": {},
     "output_type": "display_data"
    },
    {
     "ename": "ERROR",
     "evalue": "Error in ggplot(data, aes(x = x, y = u)): could not find function \"ggplot\"\n",
     "output_type": "error",
     "traceback": [
      "Error in ggplot(data, aes(x = x, y = u)): could not find function \"ggplot\"\nTraceback:\n"
     ]
    },
    {
     "data": {
      "image/png": "[encoded data removed]",
      "text/plain": [
       "plot without title"
      ]
     },
     "metadata": {},
     "output_type": "display_data"
    }
   ],
   "source": [
    "qqnorm(data$x, data$u, ylim = c(0, 300), plot.it = TRUE, xlab = \"number of inhabitants in 1920\", ylab = \"number of inhabitants in 1930\")\n",
    "qqline(data, datax = FALSE)\n",
    "qqplot(data$x, data$u)\n",
    "ggplot(data, aes(x = x, y = u)) + geom_point() + geom_smooth()"
   ]
  },
  {
   "cell_type": "markdown",
   "metadata": {},
   "source": [
    "## b) Estimate the value of R from the random sample."
   ]
  },
  {
   "cell_type": "code",
   "execution_count": 19,
   "metadata": {},
   "outputs": [
    {
     "data": {
      "text/html": [
       "1.5203125"
      ],
      "text/latex": [
       "1.5203125"
      ],
      "text/markdown": [
       "1.5203125"
      ],
      "text/plain": [
       "[1] 1.520312"
      ]
     },
     "metadata": {},
     "output_type": "display_data"
    }
   ],
   "source": [
    "R = mean(data$x)/mean(data$u)\n",
    "R"
   ]
  },
  {
   "cell_type": "markdown",
   "metadata": {},
   "source": [
    "# c)"
   ]
  },
  {
   "cell_type": "markdown",
   "metadata": {},
   "source": [
    "We start by using \"brute force\"."
   ]
  },
  {
   "cell_type": "markdown",
   "metadata": {},
   "source": [
    "We allow for values of x and u to not correspond - clearly wrong"
   ]
  },
  {
   "cell_type": "code",
   "execution_count": 20,
   "metadata": {},
   "outputs": [],
   "source": [
    "# brute force bootstraping\n",
    "Boot    = 999\n",
    "x.boot = rep(0, Boot)\n",
    "u.boot = rep(0, Boot)\n",
    "\n",
    "set.seed(42)\n",
    "for(i in 1:Boot) {\n",
    "  x.sample <- sample(data$x, nrow(data), replace = TRUE)\n",
    "  x.boot[i] <- mean(x.sample)\n",
    "  u.sample <- sample(data$u, nrow(data), replace = TRUE)\n",
    "  u.boot[i] <- mean(u.sample)\n",
    "}"
   ]
  },
  {
   "cell_type": "code",
   "execution_count": 21,
   "metadata": {},
   "outputs": [
    {
     "data": {
      "text/html": [
       "'Bootstrap estimate of R: 1.6453'"
      ],
      "text/latex": [
       "'Bootstrap estimate of R: 1.6453'"
      ],
      "text/markdown": [
       "'Bootstrap estimate of R: 1.6453'"
      ],
      "text/plain": [
       "[1] \"Bootstrap estimate of R: 1.6453\""
      ]
     },
     "metadata": {},
     "output_type": "display_data"
    }
   ],
   "source": [
    "g <- x.boot/u.boot\n",
    "R_bf = mean(g) #bf stands for brute force\n",
    "sprintf(\"Bootstrap estimate of R: %.4f\", R_bf)"
   ]
  },
  {
   "cell_type": "markdown",
   "metadata": {},
   "source": [
    "values of x and u must correspond - it makes sense"
   ]
  },
  {
   "cell_type": "code",
   "execution_count": 42,
   "metadata": {},
   "outputs": [],
   "source": [
    "# brute force bootstraping\n",
    "Boot    = 999\n",
    "x.boot = rep(0, Boot)\n",
    "u.boot = rep(0, Boot)\n",
    "\n",
    "set.seed(42)\n",
    "for(i in 1:Boot) {\n",
    "  sample_data <- sample_n(data, nrow(data), replace = TRUE)\n",
    "  x.boot[i] <- mean(sample_data$x)\n",
    "  u.boot[i] <- mean(sample_data$u)\n",
    "}"
   ]
  },
  {
   "cell_type": "code",
   "execution_count": 44,
   "metadata": {},
   "outputs": [
    {
     "data": {
      "text/html": [
       "'Bootstrap estimate of R: 1.5595939904'"
      ],
      "text/latex": [
       "'Bootstrap estimate of R: 1.5595939904'"
      ],
      "text/markdown": [
       "'Bootstrap estimate of R: 1.5595939904'"
      ],
      "text/plain": [
       "[1] \"Bootstrap estimate of R: 1.5595939904\""
      ]
     },
     "metadata": {},
     "output_type": "display_data"
    },
    {
     "data": {
      "text/html": [
       "'Bootstrap standard error for R: 0.2218'"
      ],
      "text/latex": [
       "'Bootstrap standard error for R: 0.2218'"
      ],
      "text/markdown": [
       "'Bootstrap standard error for R: 0.2218'"
      ],
      "text/plain": [
       "[1] \"Bootstrap standard error for R: 0.2218\""
      ]
     },
     "metadata": {},
     "output_type": "display_data"
    }
   ],
   "source": [
    "g <- x.boot/u.boot\n",
    "R_bf = mean(g) #bf stands for brute force\n",
    "R_bf_se = sd(g)\n",
    "sprintf(\"Bootstrap estimate of R: %.10f\", R_bf)\n",
    "sprintf(\"Bootstrap standard error for R: %.4f\", R_bf_se)"
   ]
  },
  {
   "cell_type": "code",
   "execution_count": 69,
   "metadata": {},
   "outputs": [
    {
     "data": {
      "text/html": [
       "10"
      ],
      "text/latex": [
       "10"
      ],
      "text/markdown": [
       "10"
      ],
      "text/plain": [
       "[1] 10"
      ]
     },
     "metadata": {},
     "output_type": "display_data"
    },
    {
     "data": {
      "text/html": [
       "10"
      ],
      "text/latex": [
       "10"
      ],
      "text/markdown": [
       "10"
      ],
      "text/plain": [
       "[1] 10"
      ]
     },
     "metadata": {},
     "output_type": "display_data"
    },
    {
     "data": {
      "text/html": [
       "<ol class=list-inline>\n",
       "\t<li>61</li>\n",
       "\t<li>179</li>\n",
       "\t<li>30</li>\n",
       "\t<li>2</li>\n",
       "\t<li>48</li>\n",
       "\t<li>138</li>\n",
       "\t<li>179</li>\n",
       "\t<li>138</li>\n",
       "\t<li>2</li>\n",
       "\t<li>2</li>\n",
       "</ol>\n"
      ],
      "text/latex": [
       "\\begin{enumerate*}\n",
       "\\item 61\n",
       "\\item 179\n",
       "\\item 30\n",
       "\\item 2\n",
       "\\item 48\n",
       "\\item 138\n",
       "\\item 179\n",
       "\\item 138\n",
       "\\item 2\n",
       "\\item 2\n",
       "\\end{enumerate*}\n"
      ],
      "text/markdown": [
       "1. 61\n",
       "2. 179\n",
       "3. 30\n",
       "4. 2\n",
       "5. 48\n",
       "6. 138\n",
       "7. 179\n",
       "8. 138\n",
       "9. 2\n",
       "10. 2\n",
       "\n",
       "\n"
      ],
      "text/plain": [
       " [1]  61 179  30   2  48 138 179 138   2   2"
      ]
     },
     "metadata": {},
     "output_type": "display_data"
    },
    {
     "data": {
      "text/html": [
       "<ol class=list-inline>\n",
       "\t<li>69</li>\n",
       "\t<li>260</li>\n",
       "\t<li>111</li>\n",
       "\t<li>50</li>\n",
       "\t<li>75</li>\n",
       "\t<li>143</li>\n",
       "\t<li>260</li>\n",
       "\t<li>143</li>\n",
       "\t<li>50</li>\n",
       "\t<li>50</li>\n",
       "</ol>\n"
      ],
      "text/latex": [
       "\\begin{enumerate*}\n",
       "\\item 69\n",
       "\\item 260\n",
       "\\item 111\n",
       "\\item 50\n",
       "\\item 75\n",
       "\\item 143\n",
       "\\item 260\n",
       "\\item 143\n",
       "\\item 50\n",
       "\\item 50\n",
       "\\end{enumerate*}\n"
      ],
      "text/markdown": [
       "1. 69\n",
       "2. 260\n",
       "3. 111\n",
       "4. 50\n",
       "5. 75\n",
       "6. 143\n",
       "7. 260\n",
       "8. 143\n",
       "9. 50\n",
       "10. 50\n",
       "\n",
       "\n"
      ],
      "text/plain": [
       " [1]  69 260 111  50  75 143 260 143  50  50"
      ]
     },
     "metadata": {},
     "output_type": "display_data"
    }
   ],
   "source": [
    "# brute force bootstraping\n",
    "Boot    = 9999\n",
    "x.boot = rep(0, Boot)\n",
    "u.boot = rep(0, Boot)\n",
    "sample_x = rep(0, nrow(data))\n",
    "g = rep(0,Boot)\n",
    "set.seed(42)\n",
    "for(i in 1:Boot) {\n",
    "  sample_u <- sample(data$u, nrow(data), replace = TRUE)\n",
    "  for(a in 1:length(sample_u)) {\n",
    "      for(b in 1:nrow(data)) {\n",
    "          if(sample_u[a] == data[b,1]){\n",
    "              sample_x[a] <- data[b,2]\n",
    "          }\n",
    "      }\n",
    "  }\n",
    "  x.boot[i] <- mean(sample_x)\n",
    "  u.boot[i] <- mean(sample_u)\n",
    "  g[i] <- x.boot[i]/u.boot[i]\n",
    "}\n",
    "length(sample_x)\n",
    "length(sample_u)\n",
    "sample_u\n",
    "sample_x"
   ]
  },
  {
   "cell_type": "code",
   "execution_count": 70,
   "metadata": {},
   "outputs": [
    {
     "data": {
      "text/html": [
       "'Bootstrap estimate of R: 1.5604867270'"
      ],
      "text/latex": [
       "'Bootstrap estimate of R: 1.5604867270'"
      ],
      "text/markdown": [
       "'Bootstrap estimate of R: 1.5604867270'"
      ],
      "text/plain": [
       "[1] \"Bootstrap estimate of R: 1.5604867270\""
      ]
     },
     "metadata": {},
     "output_type": "display_data"
    },
    {
     "data": {
      "text/html": [
       "'Bootstrap standard error for R: 0.2247'"
      ],
      "text/latex": [
       "'Bootstrap standard error for R: 0.2247'"
      ],
      "text/markdown": [
       "'Bootstrap standard error for R: 0.2247'"
      ],
      "text/plain": [
       "[1] \"Bootstrap standard error for R: 0.2247\""
      ]
     },
     "metadata": {},
     "output_type": "display_data"
    }
   ],
   "source": [
    "R_bf = mean(g) #bf stands for brute force\n",
    "R_bf_se = sd(g)\n",
    "sprintf(\"Bootstrap estimate of R: %.10f\", R_bf)\n",
    "sprintf(\"Bootstrap standard error for R: %.4f\", R_bf_se)"
   ]
  },
  {
   "cell_type": "markdown",
   "metadata": {},
   "source": [
    "We continue by using 'boot' package"
   ]
  },
  {
   "cell_type": "markdown",
   "metadata": {},
   "source": [
    "We allow for values of x and u to not correspond"
   ]
  },
  {
   "cell_type": "code",
   "execution_count": 64,
   "metadata": {},
   "outputs": [
    {
     "data": {
      "text/plain": [
       "          Length Class      Mode     \n",
       "t0          1    -none-     numeric  \n",
       "t         999    -none-     numeric  \n",
       "R           1    -none-     numeric  \n",
       "data        2    data.frame list     \n",
       "seed      626    -none-     numeric  \n",
       "statistic   1    -none-     function \n",
       "sim         1    -none-     character\n",
       "call        4    -none-     call     \n",
       "stype       1    -none-     character\n",
       "strata     10    -none-     numeric  \n",
       "weights    10    -none-     numeric  "
      ]
     },
     "metadata": {},
     "output_type": "display_data"
    },
    {
     "data": {
      "text/plain": [
       "\n",
       "ORDINARY NONPARAMETRIC BOOTSTRAP\n",
       "\n",
       "\n",
       "Call:\n",
       "boot(data = data, statistic = mean.boot, R = Boot)\n",
       "\n",
       "\n",
       "Bootstrap Statistics :\n",
       "    original     bias    std. error\n",
       "t1* 1.520312 0.05498203   0.2531078"
      ]
     },
     "metadata": {},
     "output_type": "display_data"
    },
    {
     "data": {
      "text/html": [
       "<table>\n",
       "<thead><tr><th scope=col>statistic</th><th scope=col>bias</th><th scope=col>std.error</th></tr></thead>\n",
       "<tbody>\n",
       "\t<tr><td>1.520312  </td><td>0.05498203</td><td>0.2531078 </td></tr>\n",
       "</tbody>\n",
       "</table>\n"
      ],
      "text/latex": [
       "\\begin{tabular}{r|lll}\n",
       " statistic & bias & std.error\\\\\n",
       "\\hline\n",
       "\t 1.520312   & 0.05498203 & 0.2531078 \\\\\n",
       "\\end{tabular}\n"
      ],
      "text/markdown": [
       "\n",
       "| statistic | bias | std.error |\n",
       "|---|---|---|\n",
       "| 1.520312   | 0.05498203 | 0.2531078  |\n",
       "\n"
      ],
      "text/plain": [
       "  statistic bias       std.error\n",
       "1 1.520312  0.05498203 0.2531078"
      ]
     },
     "metadata": {},
     "output_type": "display_data"
    },
    {
     "data": {
      "text/html": [
       "<table>\n",
       "<thead><tr><th scope=col>statistic</th></tr></thead>\n",
       "<tbody>\n",
       "\t<tr><td>1.575295</td></tr>\n",
       "</tbody>\n",
       "</table>\n"
      ],
      "text/latex": [
       "\\begin{tabular}{r|l}\n",
       " statistic\\\\\n",
       "\\hline\n",
       "\t 1.575295\\\\\n",
       "\\end{tabular}\n"
      ],
      "text/markdown": [
       "\n",
       "| statistic |\n",
       "|---|\n",
       "| 1.575295 |\n",
       "\n"
      ],
      "text/plain": [
       "  statistic\n",
       "1 1.575295 "
      ]
     },
     "metadata": {},
     "output_type": "display_data"
    }
   ],
   "source": [
    "# now, using the \"boot\" package\n",
    "Boot = 999\n",
    "mean.boot = function(data, idx) {\n",
    "  datasam <- data[idx,]\n",
    "  out = mean(datasam$x)/mean(datasam$u)\n",
    "  #out = mean(data$x[idx])/mean(data$u[idx])\n",
    "  out\n",
    "}\n",
    "\n",
    "\n",
    "set.seed(42)\n",
    "data.boot <- boot(data, statistic = mean.boot, R = Boot)\n",
    "summary(data.boot)\n",
    "data.boot\n",
    "\n",
    "tidy(data.boot)\n",
    "tidy(data.boot)[1]+tidy(data.boot)[2]"
   ]
  },
  {
   "cell_type": "code",
   "execution_count": 20,
   "metadata": {},
   "outputs": [],
   "source": [
    "?sample()"
   ]
  },
  {
   "cell_type": "code",
   "execution_count": 11,
   "metadata": {},
   "outputs": [],
   "source": [
    "?set.seed()"
   ]
  },
  {
   "cell_type": "markdown",
   "metadata": {},
   "source": [
    "## d) "
   ]
  },
  {
   "cell_type": "markdown",
   "metadata": {},
   "source": [
    "We start by computing 95% confidence intervals using normal approximation method:"
   ]
  },
  {
   "cell_type": "code",
   "execution_count": 32,
   "metadata": {},
   "outputs": [
    {
     "data": {
      "text/html": [
       "'Normal approximation method: 95% of observations fall between -1.960 and 1.960'"
      ],
      "text/latex": [
       "'Normal approximation method: 95\\% of observations fall between -1.960 and 1.960'"
      ],
      "text/markdown": [
       "'Normal approximation method: 95% of observations fall between -1.960 and 1.960'"
      ],
      "text/plain": [
       "[1] \"Normal approximation method: 95% of observations fall between -1.960 and 1.960\""
      ]
     },
     "metadata": {},
     "output_type": "display_data"
    }
   ],
   "source": [
    "sprintf(\"Normal approximation method: 95%% of observations fall between %.3f and %.3f\",qnorm(0.025),qnorm(0.975))"
   ]
  },
  {
   "cell_type": "markdown",
   "metadata": {},
   "source": [
    "We continue by computing 95% confidence intervals using percentile method:"
   ]
  },
  {
   "cell_type": "code",
   "execution_count": 53,
   "metadata": {},
   "outputs": [
    {
     "data": {
      "text/html": [
       "'95%-percent confidence interval using percentile approximation method fall between -1.219 and 2.657'"
      ],
      "text/latex": [
       "'95\\%-percent confidence interval using percentile approximation method fall between -1.219 and 2.657'"
      ],
      "text/markdown": [
       "'95%-percent confidence interval using percentile approximation method fall between -1.219 and 2.657'"
      ],
      "text/plain": [
       "[1] \"95%-percent confidence interval using percentile approximation method fall between -1.219 and 2.657\""
      ]
     },
     "metadata": {},
     "output_type": "display_data"
    }
   ],
   "source": [
    "test_stats <- (g - R)/ R_bf_se\n",
    "qs = quantile(test_stats, probs = c(0.025,0.975))\n",
    "sprintf(\"95%%-percent confidence interval using percentile approximation method fall between %.3f and %.3f\",qs[[1]],qs[[2]])"
   ]
  },
  {
   "cell_type": "markdown",
   "metadata": {},
   "source": [
    "Normal approximation is valid in the case that our variable is symmetrically distributed. That is true up to some point. We can check histogram. But from the left, values are limited by zero (as values are strictly positive) and from right side, there is no restriction. Therefore normal approximation might be valid, but we might rather go with different method."
   ]
  },
  {
   "cell_type": "markdown",
   "metadata": {},
   "source": [
    "## e)\n",
    "\n",
    "$H_0: R = 1$\n",
    "\n",
    "$H_A: R \\neq 1$"
   ]
  },
  {
   "cell_type": "markdown",
   "metadata": {},
   "source": [
    "Normal approximation method:"
   ]
  },
  {
   "cell_type": "code",
   "execution_count": 67,
   "metadata": {},
   "outputs": [
    {
     "data": {
      "text/html": [
       "'The test statistics without refinement is 2.443'"
      ],
      "text/latex": [
       "'The test statistics without refinement is 2.443'"
      ],
      "text/markdown": [
       "'The test statistics without refinement is 2.443'"
      ],
      "text/plain": [
       "[1] \"The test statistics without refinement is 2.443\""
      ]
     },
     "metadata": {},
     "output_type": "display_data"
    },
    {
     "data": {
      "text/html": [
       "'TThe 95-percent confidence interval is between -1.960 and 1.960'"
      ],
      "text/latex": [
       "'TThe 95-percent confidence interval is between -1.960 and 1.960'"
      ],
      "text/markdown": [
       "'TThe 95-percent confidence interval is between -1.960 and 1.960'"
      ],
      "text/plain": [
       "[1] \"TThe 95-percent confidence interval is between -1.960 and 1.960\""
      ]
     },
     "metadata": {},
     "output_type": "display_data"
    }
   ],
   "source": [
    "# test without refinement\n",
    "t2 = ((mean(g) - 1) / R_bf_se) # we cannot compare this with std normal distribution => we choose the other approach\n",
    "sprintf(\"The test statistics without refinement is %.3f\",t2)\n",
    "sprintf(\"TThe 95-percent confidence interval is between %.3f and %.3f\",qnorm(0.025), qnorm(0.975))"
   ]
  },
  {
   "cell_type": "markdown",
   "metadata": {},
   "source": [
    "Percentile method:"
   ]
  },
  {
   "cell_type": "code",
   "execution_count": 71,
   "metadata": {},
   "outputs": [
    {
     "data": {
      "text/html": [
       "'95%-percent confidence interval using percentile approximation method fall between 1.125 and 5.076'"
      ],
      "text/latex": [
       "'95\\%-percent confidence interval using percentile approximation method fall between 1.125 and 5.076'"
      ],
      "text/markdown": [
       "'95%-percent confidence interval using percentile approximation method fall between 1.125 and 5.076'"
      ],
      "text/plain": [
       "[1] \"95%-percent confidence interval using percentile approximation method fall between 1.125 and 5.076\""
      ]
     },
     "metadata": {},
     "output_type": "display_data"
    }
   ],
   "source": [
    "test_stats_e <- (g-1)/ R_bf_se\n",
    "qs_e = quantile(test_stats_e, probs = c(0.025,0.975))\n",
    "sprintf(\"95%%-percent confidence interval using percentile approximation method fall between %.3f and %.3f\",qs_e[[1]],qs_e[[2]])"
   ]
  },
  {
   "cell_type": "code",
   "execution_count": 73,
   "metadata": {},
   "outputs": [
    {
     "data": {
      "image/png": "[encoded data removed]",
      "text/plain": [
       "Plot with title \"Histogram of g\""
      ]
     },
     "metadata": {},
     "output_type": "display_data"
    }
   ],
   "source": []
  },
  {
   "cell_type": "markdown",
   "metadata": {},
   "source": [
    "# Problem 3"
   ]
  },
  {
   "cell_type": "code",
   "execution_count": 12,
   "metadata": {},
   "outputs": [
    {
     "name": "stderr",
     "output_type": "stream",
     "text": [
      "Installing packages into 'C:/Users/Honza/Documents/R/win-library/3.6'\n",
      "(as 'lib' is unspecified)\n"
     ]
    },
    {
     "name": "stdout",
     "output_type": "stream",
     "text": [
      "package 'readr' successfully unpacked and MD5 sums checked\n",
      "package 'tseries' successfully unpacked and MD5 sums checked\n",
      "package 'gmm' successfully unpacked and MD5 sums checked\n",
      "\n",
      "The downloaded binary packages are in\n",
      "\tC:\\Users\\Honza\\AppData\\Local\\Temp\\RtmpSYgbZm\\downloaded_packages\n"
     ]
    },
    {
     "name": "stderr",
     "output_type": "stream",
     "text": [
      "Warning message:\n",
      "\"package 'readr' was built under R version 3.6.3\"Warning message:\n",
      "\"package 'tseries' was built under R version 3.6.3\"Registered S3 method overwritten by 'quantmod':\n",
      "  method            from\n",
      "  as.zoo.data.frame zoo \n",
      "Warning message:\n",
      "\"package 'gmm' was built under R version 3.6.3\"Loading required package: sandwich\n",
      "Warning message:\n",
      "\"package 'sandwich' was built under R version 3.6.3\""
     ]
    }
   ],
   "source": [
    "install.packages(c(\"readr\",\"tseries\",\"gmm\")) #necessary packages\n",
    "library(readr) #so that we can load the data\n",
    "library(tseries)\n",
    "library(gmm)"
   ]
  },
  {
   "cell_type": "code",
   "execution_count": 65,
   "metadata": {},
   "outputs": [
    {
     "name": "stderr",
     "output_type": "stream",
     "text": [
      "\n",
      "-- Column specification ------------------------------------------------------------------------------------------------\n",
      "cols(\n",
      "  x = col_double()\n",
      ")\n",
      "\n"
     ]
    },
    {
     "data": {
      "text/html": [
       "<table>\n",
       "<thead><tr><th scope=col>x</th></tr></thead>\n",
       "<tbody>\n",
       "\t<tr><td> 1.1964116</td></tr>\n",
       "\t<tr><td> 0.9136624</td></tr>\n",
       "\t<tr><td> 0.7950761</td></tr>\n",
       "\t<tr><td> 1.8208410</td></tr>\n",
       "\t<tr><td> 1.5416703</td></tr>\n",
       "\t<tr><td>-0.3024855</td></tr>\n",
       "</tbody>\n",
       "</table>\n"
      ],
      "text/latex": [
       "\\begin{tabular}{r|l}\n",
       " x\\\\\n",
       "\\hline\n",
       "\t  1.1964116\\\\\n",
       "\t  0.9136624\\\\\n",
       "\t  0.7950761\\\\\n",
       "\t  1.8208410\\\\\n",
       "\t  1.5416703\\\\\n",
       "\t -0.3024855\\\\\n",
       "\\end{tabular}\n"
      ],
      "text/markdown": [
       "\n",
       "| x |\n",
       "|---|\n",
       "|  1.1964116 |\n",
       "|  0.9136624 |\n",
       "|  0.7950761 |\n",
       "|  1.8208410 |\n",
       "|  1.5416703 |\n",
       "| -0.3024855 |\n",
       "\n"
      ],
      "text/plain": [
       "  x         \n",
       "1  1.1964116\n",
       "2  0.9136624\n",
       "3  0.7950761\n",
       "4  1.8208410\n",
       "5  1.5416703\n",
       "6 -0.3024855"
      ]
     },
     "metadata": {},
     "output_type": "display_data"
    },
    {
     "data": {
      "text/html": [
       "<ol class=list-inline>\n",
       "\t<li>1000</li>\n",
       "\t<li>1</li>\n",
       "</ol>\n"
      ],
      "text/latex": [
       "\\begin{enumerate*}\n",
       "\\item 1000\n",
       "\\item 1\n",
       "\\end{enumerate*}\n"
      ],
      "text/markdown": [
       "1. 1000\n",
       "2. 1\n",
       "\n",
       "\n"
      ],
      "text/plain": [
       "[1] 1000    1"
      ]
     },
     "metadata": {},
     "output_type": "display_data"
    },
    {
     "data": {
      "text/html": [
       "'numeric'"
      ],
      "text/latex": [
       "'numeric'"
      ],
      "text/markdown": [
       "'numeric'"
      ],
      "text/plain": [
       "[1] \"numeric\""
      ]
     },
     "metadata": {},
     "output_type": "display_data"
    },
    {
     "data": {
      "image/png": "[encoded data removed]",
      "text/plain": [
       "Plot with title \"Histogram of data3$x\""
      ]
     },
     "metadata": {},
     "output_type": "display_data"
    }
   ],
   "source": [
    "data3 <- read_csv(\"hw2_data.csv\") #load data\n",
    "head(data3) #check data\n",
    "dim(data3) #check how big the dataset is\n",
    "class(data3$x) #what is the class of only variable in the data\n",
    "hist(data3$x) #histogram - we can see the distribution"
   ]
  },
  {
   "cell_type": "code",
   "execution_count": 64,
   "metadata": {},
   "outputs": [
    {
     "data": {
      "image/png": "[encoded data removed]",
      "text/plain": [
       "Plot with title \"Histogram of data3$x\""
      ]
     },
     "metadata": {},
     "output_type": "display_data"
    }
   ],
   "source": []
  }
 ],
 "metadata": {
  "kernelspec": {
   "display_name": "R",
   "language": "R",
   "name": "ir"
  },
  "language_info": {
   "codemirror_mode": "r",
   "file_extension": ".r",
   "mimetype": "text/x-r-source",
   "name": "R",
   "pygments_lexer": "r",
   "version": "3.6.1"
  }
 },
 "nbformat": 4,
 "nbformat_minor": 4
}
