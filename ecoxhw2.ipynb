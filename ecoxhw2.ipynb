{
 "cells": [
  {
   "cell_type": "markdown",
   "metadata": {},
   "source": [
    "# Problem 1"
   ]
  },
  {
   "cell_type": "code",
   "execution_count": 3,
   "metadata": {},
   "outputs": [
    {
     "name": "stderr",
     "output_type": "stream",
     "text": [
      "Installing packages into 'C:/Users/Honza/Documents/R/win-library/3.6'\n",
      "(as 'lib' is unspecified)\n",
      "Warning message:\n",
      "\"package 'dplyr' is in use and will not be installed\""
     ]
    },
    {
     "name": "stdout",
     "output_type": "stream",
     "text": [
      "package 'boot' successfully unpacked and MD5 sums checked\n",
      "package 'msm' successfully unpacked and MD5 sums checked\n",
      "\n",
      "The downloaded binary packages are in\n",
      "\tC:\\Users\\Honza\\AppData\\Local\\Temp\\RtmpqeyR0Q\\downloaded_packages\n"
     ]
    },
    {
     "name": "stderr",
     "output_type": "stream",
     "text": [
      "Warning message:\n",
      "\"package 'boot' was built under R version 3.6.3\"Warning message:\n",
      "\"package 'msm' was built under R version 3.6.3\"\n",
      "Attaching package: 'msm'\n",
      "\n",
      "The following object is masked from 'package:boot':\n",
      "\n",
      "    cav\n",
      "\n"
     ]
    }
   ],
   "source": [
    "install.packages(c(\"boot\",\"msm\",\"dplyr\")) #We start by installing and loading necessary packages\n",
    "library(boot)\n",
    "library(msm)\n",
    "library(dplyr)"
   ]
  },
  {
   "cell_type": "code",
   "execution_count": 4,
   "metadata": {},
   "outputs": [
    {
     "data": {
      "text/html": [
       "<table>\n",
       "<thead><tr><th scope=col>u</th><th scope=col>x</th></tr></thead>\n",
       "<tbody>\n",
       "\t<tr><td>138</td><td>143</td></tr>\n",
       "\t<tr><td> 93</td><td>104</td></tr>\n",
       "\t<tr><td> 61</td><td> 69</td></tr>\n",
       "\t<tr><td>179</td><td>260</td></tr>\n",
       "\t<tr><td> 48</td><td> 75</td></tr>\n",
       "\t<tr><td> 37</td><td> 63</td></tr>\n",
       "\t<tr><td> 29</td><td> 50</td></tr>\n",
       "\t<tr><td> 23</td><td> 48</td></tr>\n",
       "\t<tr><td> 30</td><td>111</td></tr>\n",
       "\t<tr><td>  2</td><td> 50</td></tr>\n",
       "</tbody>\n",
       "</table>\n"
      ],
      "text/latex": [
       "\\begin{tabular}{r|ll}\n",
       " u & x\\\\\n",
       "\\hline\n",
       "\t 138 & 143\\\\\n",
       "\t  93 & 104\\\\\n",
       "\t  61 &  69\\\\\n",
       "\t 179 & 260\\\\\n",
       "\t  48 &  75\\\\\n",
       "\t  37 &  63\\\\\n",
       "\t  29 &  50\\\\\n",
       "\t  23 &  48\\\\\n",
       "\t  30 & 111\\\\\n",
       "\t   2 &  50\\\\\n",
       "\\end{tabular}\n"
      ],
      "text/markdown": [
       "\n",
       "| u | x |\n",
       "|---|---|\n",
       "| 138 | 143 |\n",
       "|  93 | 104 |\n",
       "|  61 |  69 |\n",
       "| 179 | 260 |\n",
       "|  48 |  75 |\n",
       "|  37 |  63 |\n",
       "|  29 |  50 |\n",
       "|  23 |  48 |\n",
       "|  30 | 111 |\n",
       "|   2 |  50 |\n",
       "\n"
      ],
      "text/plain": [
       "   u   x  \n",
       "1  138 143\n",
       "2   93 104\n",
       "3   61  69\n",
       "4  179 260\n",
       "5   48  75\n",
       "6   37  63\n",
       "7   29  50\n",
       "8   23  48\n",
       "9   30 111\n",
       "10   2  50"
      ]
     },
     "metadata": {},
     "output_type": "display_data"
    }
   ],
   "source": [
    "library(boot)\n",
    "data(city)\n",
    "data <- city\n",
    "data\n",
    "#data <- data(city) #we load the data\n",
    "#data #let's take a look, dataset is so small that we can view it as a whole"
   ]
  },
  {
   "cell_type": "markdown",
   "metadata": {},
   "source": [
    "## a) Draw the dependence between $u_i$ and $x_i$"
   ]
  },
  {
   "cell_type": "code",
   "execution_count": 43,
   "metadata": {},
   "outputs": [
    {
     "data": {
      "image/png": "[encoded data removed]",
      "text/plain": [
       "plot without title"
      ]
     },
     "metadata": {},
     "output_type": "display_data"
    }
   ],
   "source": [
    "plot(data$u, data$x)"
   ]
  },
  {
   "cell_type": "markdown",
   "metadata": {},
   "source": [
    "## b) Estimate the value of R from the random sample."
   ]
  },
  {
   "cell_type": "code",
   "execution_count": 42,
   "metadata": {},
   "outputs": [
    {
     "data": {
      "text/html": [
       "1.5203125"
      ],
      "text/latex": [
       "1.5203125"
      ],
      "text/markdown": [
       "1.5203125"
      ],
      "text/plain": [
       "[1] 1.520312"
      ]
     },
     "metadata": {},
     "output_type": "display_data"
    }
   ],
   "source": [
    "R = mean(data$x)/mean(data$u)\n",
    "R\n",
    "R_se <- "
   ]
  },
  {
   "cell_type": "markdown",
   "metadata": {},
   "source": [
    "# c)"
   ]
  },
  {
   "cell_type": "markdown",
   "metadata": {},
   "source": [
    "We start by using \"brute force\"."
   ]
  },
  {
   "cell_type": "markdown",
   "metadata": {},
   "source": [
    "We allow for values of x and u to not correspond"
   ]
  },
  {
   "cell_type": "code",
   "execution_count": 84,
   "metadata": {},
   "outputs": [],
   "source": [
    "# brute force bootstraping\n",
    "Boot    = 99999\n",
    "x.boot = rep(0, Boot)\n",
    "u.boot = rep(0, Boot)\n",
    "\n",
    "set.seed(42)\n",
    "for(i in 1:Boot) {\n",
    "  x.sample <- sample(data$x, nrow(data), replace = TRUE)\n",
    "  x.boot[i] <- mean(x.sample)\n",
    "  u.sample <- sample(data$u, nrow(data), replace = TRUE)\n",
    "  u.boot[i] <- mean(u.sample)\n",
    "}"
   ]
  },
  {
   "cell_type": "code",
   "execution_count": 85,
   "metadata": {},
   "outputs": [
    {
     "data": {
      "text/html": [
       "'Bootstrap estimate of R: 1.6405'"
      ],
      "text/latex": [
       "'Bootstrap estimate of R: 1.6405'"
      ],
      "text/markdown": [
       "'Bootstrap estimate of R: 1.6405'"
      ],
      "text/plain": [
       "[1] \"Bootstrap estimate of R: 1.6405\""
      ]
     },
     "metadata": {},
     "output_type": "display_data"
    }
   ],
   "source": [
    "g <- x.boot/u.boot\n",
    "R_bf = mean(g) #bf stands for brute force\n",
    "sprintf(\"Bootstrap estimate of R: %.4f\", R_bf)"
   ]
  },
  {
   "cell_type": "markdown",
   "metadata": {},
   "source": [
    "values of x and u must correspond - it makes sense"
   ]
  },
  {
   "cell_type": "code",
   "execution_count": 86,
   "metadata": {},
   "outputs": [],
   "source": [
    "# brute force bootstraping\n",
    "Boot    = 99999\n",
    "x.boot = rep(0, Boot)\n",
    "u.boot = rep(0, Boot)\n",
    "\n",
    "set.seed(42)\n",
    "for(i in 1:Boot) {\n",
    "  sample_data <- sample_n(data, nrow(data), replace = TRUE)\n",
    "  x.boot[i] <- mean(sample_data$x)\n",
    "  u.boot[i] <- mean(sample_data$u)\n",
    "}"
   ]
  },
  {
   "cell_type": "code",
   "execution_count": 87,
   "metadata": {},
   "outputs": [
    {
     "data": {
      "text/html": [
       "'Bootstrap estimate of R: 1.5596'"
      ],
      "text/latex": [
       "'Bootstrap estimate of R: 1.5596'"
      ],
      "text/markdown": [
       "'Bootstrap estimate of R: 1.5596'"
      ],
      "text/plain": [
       "[1] \"Bootstrap estimate of R: 1.5596\""
      ]
     },
     "metadata": {},
     "output_type": "display_data"
    },
    {
     "data": {
      "text/html": [
       "'Bootstrap standard error for R: 0.2247'"
      ],
      "text/latex": [
       "'Bootstrap standard error for R: 0.2247'"
      ],
      "text/markdown": [
       "'Bootstrap standard error for R: 0.2247'"
      ],
      "text/plain": [
       "[1] \"Bootstrap standard error for R: 0.2247\""
      ]
     },
     "metadata": {},
     "output_type": "display_data"
    }
   ],
   "source": [
    "g <- x.boot/u.boot\n",
    "R_bf = mean(g) #bf stands for brute force\n",
    "R_bf_se = sd(g)\n",
    "sprintf(\"Bootstrap estimate of R: %.4f\", R_bf)\n",
    "sprintf(\"Bootstrap standard error for R: %.4f\", R_bf_sd)"
   ]
  },
  {
   "cell_type": "markdown",
   "metadata": {},
   "source": [
    "We continue by using 'boot' package"
   ]
  },
  {
   "cell_type": "markdown",
   "metadata": {},
   "source": [
    "We allow for values of x and u to not correspond"
   ]
  },
  {
   "cell_type": "code",
   "execution_count": 92,
   "metadata": {},
   "outputs": [
    {
     "ename": "ERROR",
     "evalue": "Error in `[.data.frame`(data, idx): undefined columns selected\n",
     "output_type": "error",
     "traceback": [
      "Error in `[.data.frame`(data, idx): undefined columns selected\nTraceback:\n",
      "1. boot(data, statistic = mean.boot, R = Boot)",
      "2. statistic(data, original, ...)",
      "3. mean(data[idx])   # at line 3 of file <text>",
      "4. data[idx]",
      "5. `[.data.frame`(data, idx)",
      "6. stop(\"undefined columns selected\")"
     ]
    }
   ],
   "source": [
    "# now, using the \"boot\" package\n",
    "mean.boot = function(data, idx) {\n",
    "  out = mean(data$x[idx])/mean\n",
    "}\n",
    "\n",
    "xvector <- data$x\n",
    "uvector <- data$u\n",
    "set.seed(42)\n",
    "data.boot <- boot(data, statistic = mean.boot, R = Boot)"
   ]
  },
  {
   "cell_type": "code",
   "execution_count": 88,
   "metadata": {},
   "outputs": [],
   "source": [
    "?boot()"
   ]
  },
  {
   "cell_type": "code",
   "execution_count": null,
   "metadata": {},
   "outputs": [],
   "source": []
  },
  {
   "cell_type": "markdown",
   "metadata": {},
   "source": [
    "# Problem 3"
   ]
  },
  {
   "cell_type": "code",
   "execution_count": null,
   "metadata": {},
   "outputs": [],
   "source": [
    "install.packages(c(\"readr\",\"tseries\",\"gmm\")) #necessary packages\n",
    "library(readr) #so that we can load the data\n",
    "library(tseries)\n",
    "library(gmm)"
   ]
  },
  {
   "cell_type": "code",
   "execution_count": null,
   "metadata": {},
   "outputs": [],
   "source": [
    "data3 <- read_csv(\"hw2_data.csv\")\n",
    "head(data3)"
   ]
  },
  {
   "cell_type": "code",
   "execution_count": null,
   "metadata": {},
   "outputs": [],
   "source": [
    "install.packages(\"rlang\")"
   ]
  }
 ],
 "metadata": {
  "kernelspec": {
   "display_name": "R",
   "language": "R",
   "name": "ir"
  },
  "language_info": {
   "codemirror_mode": "r",
   "file_extension": ".r",
   "mimetype": "text/x-r-source",
   "name": "R",
   "pygments_lexer": "r",
   "version": "3.6.1"
  }
 },
 "nbformat": 4,
 "nbformat_minor": 4
}
